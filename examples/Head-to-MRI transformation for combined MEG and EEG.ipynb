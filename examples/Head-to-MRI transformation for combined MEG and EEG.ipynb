{
 "cells": [
  {
   "cell_type": "markdown",
   "metadata": {},
   "source": [
    "# Coregister MR and head coordinate systems\n",
    "\n",
    "The basic workflow for `mne-python`-users is described [in the MNE cookbook](http://martinos.org/mne/stable/manual/cookbook.html#overview).\n",
    "\n",
    "## How many transformations do I need?\n",
    "\n",
    "The objective of this stage of analysis is to link the `head` and `MRI` coordinate systems. Note that the `head`-to-`MEG device` transformation is a separate issue (obtained using a fit to the HPI coil signals). _We only need one `head`-to-`MRI` per recording session (\"study\" in StormDB)._"
   ]
  },
  {
   "cell_type": "markdown",
   "metadata": {},
   "source": [
    "## `mne.gui.coregister`\n",
    "\n",
    "Make sure you have a recent version of `mne-python` available (_e.g._, by including `use mne` in your `bash` startup file. Open a Terminal window, set the `SUBJECTS_DIR` environment variable to the current project (_e.g._, by `set_mindlabproj` followed by a `gotoproj`), and write\n",
    "\n",
    "```bash\n",
    "mne coreg\n",
    "```\n",
    "\n",
    "Please see [these slides](http://www.slideshare.net/mne-python/mnepython-coregistration) for details on how to use the GUI."
   ]
  },
  {
   "cell_type": "markdown",
   "metadata": {},
   "source": [
    "## Combined MEG-EEG measurement\n",
    "\n",
    "When an EEG cap is placed on the head, it is not recommended to even try to digitise extra points on the head: these would be _very_ likely to end up not touching the scalp under the cap and lead to a poor coregistration. On the other hand, EEG electrodes are digitised such that the _scalp point_ in the middle of the ring is chosen as the location. EEG electrode locations can thus be used as \"extra\" points in the coregistration.\n",
    "\n",
    "At present (Feb 2017), the `mne.gui.coregistration`-tool does not support using EEG locations as head shape points. In this notebook we demonstrate how to modify the header ('`info`') structure of a recording to make the GUI treat EEG locations as head shape points."
   ]
  },
  {
   "cell_type": "markdown",
   "metadata": {},
   "source": [
    "### Create an empty raw file for each study date\n",
    "\n",
    "We'll simply take a single raw MEG recording per subject, per study date, and write them out to a `trans`-folder in the project's `scratch`."
   ]
  },
  {
   "cell_type": "code",
   "execution_count": null,
   "metadata": {
    "collapsed": true
   },
   "outputs": [],
   "source": [
    "from mne.io import read_raw_fif, RawArray, read_info\n",
    "from mne.io.constants import FIFF\n",
    "from stormdb.access import Query\n",
    "from stormdb.base import mkdir_p  # mkdir -p\n",
    "import os.path as op\n",
    "import numpy as np"
   ]
  },
  {
   "cell_type": "code",
   "execution_count": null,
   "metadata": {
    "collapsed": false
   },
   "outputs": [],
   "source": [
    "proj_name = 'MINDLAB2015_MEG-Sememene'\n",
    "trans_dir = op.join('/projects', proj_name, 'scratch', 'trans')\n",
    "mkdir_p(trans_dir)  # this must exist"
   ]
  },
  {
   "cell_type": "code",
   "execution_count": null,
   "metadata": {
    "collapsed": true
   },
   "outputs": [],
   "source": [
    "qy = Query(proj_name)\n",
    "included_subjects = qy.get_subjects()"
   ]
  },
  {
   "cell_type": "markdown",
   "metadata": {},
   "source": [
    "The following loop over included subjects will\n",
    "\n",
    "* find all available MEG-studies, then for each study\n",
    "* read the digitised points of one recording\n",
    "* \"re-label\" EEG points as \"extra\" head shape points (original data not touched)\n",
    "* save an empty raw-file with the modified digitisation information\n",
    "    * file name: `trans_dir`/`subject_studydate_coreg.fif`"
   ]
  },
  {
   "cell_type": "code",
   "execution_count": null,
   "metadata": {
    "collapsed": false
   },
   "outputs": [],
   "source": [
    "for sub in included_subjects:\n",
    "    studies = qy.get_studies(sub, modality='MEG')\n",
    "    for study in studies:\n",
    "        study_date = study[:8]  # cut out the '_000000'\n",
    "        output_fname = '_'.join([sub, study_date, 'coreg.fif'])\n",
    "\n",
    "        series = qy.filter_series('*', subjects=sub,\n",
    "                                  study_date_range=study_date)\n",
    "        # any file from this study will do, use the first one\n",
    "        raw_fname = op.join(series[0]['path'], series[0]['files'][0])\n",
    "        \n",
    "        info = read_info(raw_fname)\n",
    "        # do an in-place replacement, consider making a copy and\n",
    "        # adding the EEG points as EXTRA points to the end?\n",
    "        for digpoint in info['dig']:\n",
    "            if digpoint['kind'] == FIFF.FIFFV_POINT_EEG:\n",
    "                digpoint['kind'] = FIFF.FIFFV_POINT_EXTRA\n",
    "        raw = RawArray(np.empty((info['nchan'], 1)), info)\n",
    "        raw.save(op.join(trans_dir, output_fname), overwrite=True) "
   ]
  },
  {
   "cell_type": "markdown",
   "metadata": {},
   "source": [
    "### What now?\n",
    "\n",
    "Use the newly-created empty raw-files as the \"Head Shape Source (Raw/Epochs/Evoked)\" in `mne.gui.coregistration`. Remember that you only need one transformation per recording session (_i.e._, study)."
   ]
  }
 ],
 "metadata": {
  "hide_input": false,
  "kernelspec": {
   "display_name": "Python [default]",
   "language": "python",
   "name": "python3"
  },
  "language_info": {
   "codemirror_mode": {
    "name": "ipython",
    "version": 3
   },
   "file_extension": ".py",
   "mimetype": "text/x-python",
   "name": "python",
   "nbconvert_exporter": "python",
   "pygments_lexer": "ipython3",
   "version": "3.5.2"
  }
 },
 "nbformat": 4,
 "nbformat_minor": 2
}
