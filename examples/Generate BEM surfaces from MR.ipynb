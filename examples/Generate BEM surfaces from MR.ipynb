{
 "cells": [
  {
   "cell_type": "markdown",
   "metadata": {},
   "source": [
    "# Forward model for M/EEG source analysis\n",
    "\n",
    "This notebook illustrates how to use features of the `stormdb.process`-module to process anatomical MR information in order to produce:\n",
    "\n",
    "* extraction of cortical sheet (_Freesurfer_ `recon-all`)\n",
    "    * gray- and white-matter boundaries\n",
    "* creation of tissue surface layers for the purpose of Boundary Element Model (BEM) based forward models\n",
    "\n",
    "_All computations are performed on the `hyades`-cluster._"
   ]
  },
  {
   "cell_type": "markdown",
   "metadata": {},
   "source": [
    "## Alternate pathways for BEM surface creation\n",
    "\n",
    "There are three distinct paths that can be taken:\n",
    "\n",
    "1. [watershed] You only have a high-resolution (ca. 1 mm cubic voxels) T1-weighted image\n",
    "    * only an estimate of the inner skull boundary can be obtained\n",
    "1. [flash] In addition to the T1, you have a multi-echo FLASH sequence (proton density-like contrast); generates inner- and outer-skull & skin\n",
    "    * a 5-degree flip angle image is compulsory\n",
    "    * the optional 30-degree image does not appear to improve surface quality\n",
    "    * the 5-degree image can have as few as 5 echos\n",
    "1. [simnibs] You have 2 or 4 images, and use the [SimNIBS](http://www.simnibs.de) `mri2mesh`-pipeline to generate surfaces (_recommended as of 2016_); generates inner- and outer-skull & skin\n",
    "    * a T1 with fat saturation (_compulsory_)\n",
    "    * a T2 with high bandwidth (_compulsory_)\n",
    "    * a T1 with high bandwidth (_optional_)\n",
    "    * a T2 with fat saturation (_optional_)\n",
    "   "
   ]
  },
  {
   "cell_type": "markdown",
   "metadata": {},
   "source": [
    "## Step 1: Cortex extraction\n",
    "\n",
    "All pathways are based on the `recon-all` analysis stream of [Freesurfer](http://www.freesurfer.net). __NB__: SimNIBS calls `recon-all` with a bunch of tweaks---you should let `mri2mesh` take care of these for you. For watershed and flash, you should call `recon-all` explicitly."
   ]
  },
  {
   "cell_type": "markdown",
   "metadata": {},
   "source": [
    "### Using Freesurfer / `recon-all`"
   ]
  },
  {
   "cell_type": "code",
   "execution_count": 1,
   "metadata": {
    "collapsed": true
   },
   "outputs": [],
   "source": [
    "import os.path as op\n",
    "from stormdb.process import Freesurfer\n",
    "from stormdb.base import mkdir_p  # mkdir -p"
   ]
  },
  {
   "cell_type": "code",
   "execution_count": 2,
   "metadata": {
    "collapsed": true
   },
   "outputs": [],
   "source": [
    "proj_name = 'MINDLAB2015_MEG-Sememene'\n",
    "subject = '0010_HXN'  # full code must be given!\n",
    "subjects_dir = op.join('/projects', proj_name, 'scratch', 'fs_subjects_dir')\n",
    "mkdir_p(subjects_dir)  # this must exist\n",
    "t1_name = '*t1_mpr*'  # 3D_T1_SAG_t1_mpr_sag_p2_iso_FCread_Tardif"
   ]
  },
  {
   "cell_type": "markdown",
   "metadata": {},
   "source": [
    "First prepare a `recon-all`-command:"
   ]
  },
  {
   "cell_type": "code",
   "execution_count": 3,
   "metadata": {
    "collapsed": false
   },
   "outputs": [],
   "source": [
    "fs = Freesurfer(proj_name=proj_name, subjects_dir=subjects_dir)\n",
    "fs.recon_all?"
   ]
  },
  {
   "cell_type": "markdown",
   "metadata": {},
   "source": [
    "Since `recon-all` takes 6-10 hours, you should use the `long.q`! (default)\n",
    "\n",
    "__NB__: Due to some issues with how `Freesurfer` does DICOM-conversion, the command below will spend about 15 seconds (per subject) converting the data. All other processing steps will be performed on the cluster, after calling `submit()`."
   ]
  },
  {
   "cell_type": "code",
   "execution_count": 4,
   "metadata": {
    "collapsed": false
   },
   "outputs": [
    {
     "name": "stdout",
     "output_type": "stream",
     "text": [
      "0010_HXN\n",
      "1 jobs created successfully, ready to submit.\n"
     ]
    }
   ],
   "source": [
    "fs.recon_all(subject, t1_series=t1_name)"
   ]
  },
  {
   "cell_type": "code",
   "execution_count": 5,
   "metadata": {
    "collapsed": false
   },
   "outputs": [
    {
     "name": "stdout",
     "output_type": "stream",
     "text": [
      "Following command would be submitted (if not fake)\n",
      "recon-all -subjid 0010_HXN -sd /projects/MINDLAB2015_MEG-Sememene/scratch/fs_subjects_dir -all -3T\n"
     ]
    }
   ],
   "source": [
    "fs.submit(fake=True)"
   ]
  },
  {
   "cell_type": "code",
   "execution_count": 6,
   "metadata": {
    "collapsed": false
   },
   "outputs": [
    {
     "name": "stdout",
     "output_type": "stream",
     "text": [
      "Cluster job submitted, job ID: 3803099\n"
     ]
    }
   ],
   "source": [
    "fs.submit()"
   ]
  },
  {
   "cell_type": "code",
   "execution_count": 66,
   "metadata": {
    "collapsed": false
   },
   "outputs": [],
   "source": [
    "fs.status"
   ]
  },
  {
   "cell_type": "markdown",
   "metadata": {},
   "source": [
    "### Using SimNIBS / `mri2mesh`\n",
    "\n",
    "See SimNIBS documentation for details!\n",
    "\n",
    "__NB__: The parameter `output_dir` determines where `mri2mesh` writes its outputs in the form:\n",
    "\n",
    "* `m2m_{subject A name}`\n",
    "* `fs_{subject A name}`\n",
    "\n",
    "Because `MNE` and `mne-python` require a `subjects_dir`-folder with the structure\n",
    "\n",
    "* `{subject A name}`\n",
    "* `{subject B name}`\n",
    "* ...\n",
    "\n",
    "we will pass `link_to_subjects_dir` to `mri2mesh` in order to create symbolic links between the two folder."
   ]
  },
  {
   "cell_type": "code",
   "execution_count": 1,
   "metadata": {
    "collapsed": true
   },
   "outputs": [],
   "source": [
    "import os.path as op\n",
    "from stormdb.process import SimNIBS\n",
    "from stormdb.base import mkdir_p  # mkdir -p"
   ]
  },
  {
   "cell_type": "code",
   "execution_count": 2,
   "metadata": {
    "collapsed": true
   },
   "outputs": [],
   "source": [
    "proj_name = 'MINDLAB2016_MEG-Language-PD-DBS'\n",
    "subject = '0008_CCP'  # full code must be given!\n",
    "output_dir = op.join('/projects', proj_name, 'scratch', 'sn_subjects_dir')\n",
    "subjects_dir = op.join('/projects', proj_name, 'scratch', 'fs_subjects_dir')\n",
    "mkdir_p(subjects_dir)  # this must exist\n",
    "mkdir_p(output_dir)  # this must exist\n",
    "t1_fs = 't1_*_fatsat'  # t1_mprage_3D_sag_fatsat\n",
    "t2_hb = 't2_*_HighBW'  # t2_tse_sag_HighBW"
   ]
  },
  {
   "cell_type": "markdown",
   "metadata": {},
   "source": [
    "First prepare a `mri2mesh`-command:"
   ]
  },
  {
   "cell_type": "code",
   "execution_count": 3,
   "metadata": {
    "collapsed": false
   },
   "outputs": [],
   "source": [
    "sn = SimNIBS(proj_name=proj_name, output_dir=output_dir)\n",
    "sn.mri2mesh?"
   ]
  },
  {
   "cell_type": "markdown",
   "metadata": {},
   "source": [
    "Since `mri2mesh` takes 6-10 hours, you should use the `long.q`! (default)\n",
    "\n",
    "__NB__: Due to some issues with how `Freesurfer` does DICOM-conversion, the command below will spend about 15 seconds (per image) converting the data. All other processing steps will be performed on the cluster, after calling `submit()`."
   ]
  },
  {
   "cell_type": "code",
   "execution_count": 5,
   "metadata": {
    "collapsed": false
   },
   "outputs": [
    {
     "name": "stdout",
     "output_type": "stream",
     "text": [
      "0008_CCP\n",
      "1 jobs created successfully, ready to submit.\n"
     ]
    },
    {
     "name": "stderr",
     "output_type": "stream",
     "text": [
      "/users/cjb/src/git/meeg-cfin/stormdb-python/stormdb/process/simnibs.py:261: UserWarning: Some input files already exist in /projects/MINDLAB2016_MEG-Language-PD-DBS/scratch/sn_subjects_dir/nifti/0008_CCP; these will be used instead of re-converting.\n",
      "  .format(nii_path))\n"
     ]
    }
   ],
   "source": [
    "sn.mri2mesh(subject, t1_fs=t1_fs, t2_hb=t2_hb, t2mask=True,\n",
    "            link_to_fs_dir=subjects_dir)"
   ]
  },
  {
   "cell_type": "code",
   "execution_count": 6,
   "metadata": {
    "collapsed": false
   },
   "outputs": [
    {
     "name": "stdout",
     "output_type": "stream",
     "text": [
      "Following command would be submitted (if not fake)\n",
      "mri2mesh  --brain --subcort --head --t2mask 0008_CCP /projects/MINDLAB2016_MEG-Language-PD-DBS/scratch/sn_subjects_dir/nifti/0008_CCP/t1_mprage_3D_sag_fatsat.nii.gz /projects/MINDLAB2016_MEG-Language-PD-DBS/scratch/sn_subjects_dir/nifti/0008_CCP/t2_tse_sag_HighBW.nii.gz\n",
      "ln -s /projects/MINDLAB2016_MEG-Language-PD-DBS/scratch/sn_subjects_dir/fs_0008_CCP /projects/MINDLAB2016_MEG-Language-PD-DBS/scratch/fs_subjects_dir/0008_CCP\n"
     ]
    }
   ],
   "source": [
    "sn.submit(fake=True)"
   ]
  },
  {
   "cell_type": "code",
   "execution_count": 7,
   "metadata": {
    "collapsed": false
   },
   "outputs": [
    {
     "name": "stdout",
     "output_type": "stream",
     "text": [
      "Cluster job submitted, job ID: 3815225\n"
     ]
    }
   ],
   "source": [
    "sn.submit()"
   ]
  },
  {
   "cell_type": "code",
   "execution_count": 17,
   "metadata": {
    "collapsed": false,
    "scrolled": true
   },
   "outputs": [
    {
     "name": "stdout",
     "output_type": "stream",
     "text": [
      "#1 (3815225): Running on hyades08 (long.q)\n"
     ]
    }
   ],
   "source": [
    "sn.status"
   ]
  },
  {
   "cell_type": "markdown",
   "metadata": {},
   "source": [
    "## Step 2: Wait!\n",
    "\n",
    "The following stages are only possible after the surface reconstruction(s) above are completed. You may shut down the current python kernel and return tomorrow. To checkt the status of your jobs on the queue, open up a terminal and type\n",
    "\n",
    "```bash\n",
    "qstat\n",
    "```\n",
    "\n",
    "The standard output stream of the jobs submitted are by default written to the same directory as the present notebook."
   ]
  },
  {
   "cell_type": "markdown",
   "metadata": {},
   "source": [
    "## Step 3: Create BEM surfaces\n",
    "\n",
    "__NB__: All of the following pathways create a high-density skin surface image for MEG-MRI coregistration purposes (according to the standard MNE-pipeline); the flag `make_coreg_head`-parameter of `create_bem_surfaces` is set to `True` by default."
   ]
  },
  {
   "cell_type": "markdown",
   "metadata": {},
   "source": [
    "### Watershed"
   ]
  },
  {
   "cell_type": "code",
   "execution_count": 1,
   "metadata": {
    "collapsed": false
   },
   "outputs": [],
   "source": [
    "import os.path as op\n",
    "from stormdb.process import Freesurfer"
   ]
  },
  {
   "cell_type": "code",
   "execution_count": 2,
   "metadata": {
    "collapsed": true
   },
   "outputs": [],
   "source": [
    "proj_name = 'MINDLAB2015_MEG-Sememene'\n",
    "subject = '0010_HXN'  # full code must be given!\n",
    "subjects_dir = op.join('/projects', proj_name, 'scratch', 'fs_subjects_dir')"
   ]
  },
  {
   "cell_type": "code",
   "execution_count": 3,
   "metadata": {
    "collapsed": false
   },
   "outputs": [],
   "source": [
    "fs_ws = Freesurfer(proj_name=proj_name, subjects_dir=subjects_dir)\n",
    "fs_ws.create_bem_surfaces?"
   ]
  },
  {
   "cell_type": "code",
   "execution_count": 4,
   "metadata": {
    "collapsed": false
   },
   "outputs": [
    {
     "name": "stdout",
     "output_type": "stream",
     "text": [
      "0010_HXN\n",
      "1 jobs created successfully, ready to submit.\n"
     ]
    }
   ],
   "source": [
    "fs_ws.create_bem_surfaces(subject, make_coreg_head=False)"
   ]
  },
  {
   "cell_type": "code",
   "execution_count": 5,
   "metadata": {
    "collapsed": false
   },
   "outputs": [
    {
     "name": "stdout",
     "output_type": "stream",
     "text": [
      "Following command would be submitted (if not fake)\n",
      "cfin_watershed_bem --sd /projects/MINDLAB2015_MEG-Sememene/scratch/fs_subjects_dir --subject 0010_HXN --gcaatlas --overwrite\n",
      "rm -f /projects/MINDLAB2015_MEG-Sememene/scratch/fs_subjects_dir/0010_HXN/bem/brain.surf && ln -s watershed/0010_HXN_brain_surface /projects/MINDLAB2015_MEG-Sememene/scratch/fs_subjects_dir/0010_HXN/bem/brain.surf && touch /projects/MINDLAB2015_MEG-Sememene/scratch/fs_subjects_dir/0010_HXN/bem/brain.surf\n",
      "rm -f /projects/MINDLAB2015_MEG-Sememene/scratch/fs_subjects_dir/0010_HXN/bem/inner_skull.surf && ln -s watershed/0010_HXN_inner_skull_surface /projects/MINDLAB2015_MEG-Sememene/scratch/fs_subjects_dir/0010_HXN/bem/inner_skull.surf && touch /projects/MINDLAB2015_MEG-Sememene/scratch/fs_subjects_dir/0010_HXN/bem/inner_skull.surf\n",
      "rm -f /projects/MINDLAB2015_MEG-Sememene/scratch/fs_subjects_dir/0010_HXN/bem/outer_skull.surf && ln -s watershed/0010_HXN_outer_skull_surface /projects/MINDLAB2015_MEG-Sememene/scratch/fs_subjects_dir/0010_HXN/bem/outer_skull.surf && touch /projects/MINDLAB2015_MEG-Sememene/scratch/fs_subjects_dir/0010_HXN/bem/outer_skull.surf\n",
      "rm -f /projects/MINDLAB2015_MEG-Sememene/scratch/fs_subjects_dir/0010_HXN/bem/outer_skin.surf && ln -s watershed/0010_HXN_outer_skin_surface /projects/MINDLAB2015_MEG-Sememene/scratch/fs_subjects_dir/0010_HXN/bem/outer_skin.surf && touch /projects/MINDLAB2015_MEG-Sememene/scratch/fs_subjects_dir/0010_HXN/bem/outer_skin.surf\n",
      "cd /projects/MINDLAB2015_MEG-Sememene/scratch/fs_subjects_dir/0010_HXN/bem && mne_surf2bem --surf outer_skin.surf --check --fif 0010_HXN-head-sparse.fif\n",
      "rm -f 0010_HXN-head.fif && ln -s 0010_HXN-head-sparse.fif 0010_HXN-head.fif\n"
     ]
    }
   ],
   "source": [
    "fs_ws.submit(fake=True)"
   ]
  },
  {
   "cell_type": "code",
   "execution_count": 6,
   "metadata": {
    "collapsed": false
   },
   "outputs": [
    {
     "name": "stdout",
     "output_type": "stream",
     "text": [
      "Cluster job submitted, job ID: 3805312\n"
     ]
    }
   ],
   "source": [
    "fs_ws.submit()"
   ]
  },
  {
   "cell_type": "code",
   "execution_count": 7,
   "metadata": {
    "collapsed": false
   },
   "outputs": [
    {
     "name": "stdout",
     "output_type": "stream",
     "text": [
      "#1 (3805312): Running on hyades09 (short.q)\n"
     ]
    }
   ],
   "source": [
    "fs_ws.status"
   ]
  },
  {
   "cell_type": "markdown",
   "metadata": {},
   "source": [
    "### Multi-echo FLASH\n",
    "\n",
    "The example below is for a 5-degree flip angle image (\"`flash5`\") with 5 echos (instead of the usual 8)."
   ]
  },
  {
   "cell_type": "code",
   "execution_count": 1,
   "metadata": {
    "collapsed": false
   },
   "outputs": [],
   "source": [
    "import os.path as op\n",
    "from stormdb.process import Freesurfer"
   ]
  },
  {
   "cell_type": "code",
   "execution_count": 2,
   "metadata": {
    "collapsed": true
   },
   "outputs": [],
   "source": [
    "proj_name = 'MINDLAB2015_MEG-Sememene'\n",
    "subject = '0010_HXN'  # full code must be given!\n",
    "subjects_dir = op.join('/projects', proj_name, 'scratch', 'fs_subjects_dir')\n",
    "flash5_name = '*gre_5*'  # gre_5_PDW_5echo_sag, the code handles the 5<8 echos automatically"
   ]
  },
  {
   "cell_type": "code",
   "execution_count": 3,
   "metadata": {
    "collapsed": false
   },
   "outputs": [],
   "source": [
    "fs_flash = Freesurfer(proj_name=proj_name, subjects_dir=subjects_dir)\n",
    "fs_flash.create_bem_surfaces?"
   ]
  },
  {
   "cell_type": "code",
   "execution_count": 4,
   "metadata": {
    "collapsed": false
   },
   "outputs": [
    {
     "name": "stdout",
     "output_type": "stream",
     "text": [
      "0010_HXN\n",
      "1 jobs created successfully, ready to submit.\n"
     ]
    },
    {
     "name": "stderr",
     "output_type": "stream",
     "text": [
      "/users/cjb/src/git/meeg-cfin/stormdb-python/stormdb/process/freesurfer.py:351: UserWarning: Copy of FLASH image DICOMs found. Submitting this script will overwrite previous surfaces.\n",
      "  warn('Copy of FLASH image DICOMs found. Submitting this script '\n"
     ]
    }
   ],
   "source": [
    "fs_flash.create_bem_surfaces(subject, flash5=flash5_name, make_coreg_head=False)"
   ]
  },
  {
   "cell_type": "code",
   "execution_count": 5,
   "metadata": {
    "collapsed": false
   },
   "outputs": [
    {
     "name": "stdout",
     "output_type": "stream",
     "text": [
      "Following command would be submitted (if not fake)\n",
      "mkdir -p /projects/MINDLAB2015_MEG-Sememene/scratch/fs_subjects_dir/0010_HXN/mri/flash/dicom\n",
      "cp /projects/MINDLAB2015_MEG-Sememene/raw/0010/20151217_141141/MR/004.gre_5_PDW_5echo_sag/files/* /projects/MINDLAB2015_MEG-Sememene/scratch/fs_subjects_dir/0010_HXN/mri/flash/dicom\n",
      "cd /projects/MINDLAB2015_MEG-Sememene/scratch/fs_subjects_dir/0010_HXN/mri/flash && cfin_organize_dicom /projects/MINDLAB2015_MEG-Sememene/scratch/fs_subjects_dir/0010_HXN/mri/flash/dicom\n",
      "rm -f flash05 && ln -s 004_gre_5_PDW_5echo_sag flash05\n",
      "cfin_flash_bem -s 0010_HXN -d /projects/MINDLAB2015_MEG-Sememene/scratch/fs_subjects_dir --noflash30 --overwrite\n",
      "mne_convert_surface --tri /projects/MINDLAB2015_MEG-Sememene/scratch/fs_subjects_dir/0010_HXN/bem/flash/inner_skull.tri  --surfout /projects/MINDLAB2015_MEG-Sememene/scratch/fs_subjects_dir/0010_HXN/bem/flash/inner_skull.surf --swap --mghmri /projects/MINDLAB2015_MEG-Sememene/scratch/fs_subjects_dir/0010_HXN/mri/flash/parameter_maps/flash5_reg.mgz\n",
      "rm -f /projects/MINDLAB2015_MEG-Sememene/scratch/fs_subjects_dir/0010_HXN/bem/inner_skull.surf && ln -s /projects/MINDLAB2015_MEG-Sememene/scratch/fs_subjects_dir/0010_HXN/bem/flash/inner_skull.surf /projects/MINDLAB2015_MEG-Sememene/scratch/fs_subjects_dir/0010_HXN/bem/inner_skull.surf && touch /projects/MINDLAB2015_MEG-Sememene/scratch/fs_subjects_dir/0010_HXN/bem/inner_skull.surf\n",
      "mne_convert_surface --tri /projects/MINDLAB2015_MEG-Sememene/scratch/fs_subjects_dir/0010_HXN/bem/flash/outer_skull.tri  --surfout /projects/MINDLAB2015_MEG-Sememene/scratch/fs_subjects_dir/0010_HXN/bem/flash/outer_skull.surf --swap --mghmri /projects/MINDLAB2015_MEG-Sememene/scratch/fs_subjects_dir/0010_HXN/mri/flash/parameter_maps/flash5_reg.mgz\n",
      "rm -f /projects/MINDLAB2015_MEG-Sememene/scratch/fs_subjects_dir/0010_HXN/bem/outer_skull.surf && ln -s /projects/MINDLAB2015_MEG-Sememene/scratch/fs_subjects_dir/0010_HXN/bem/flash/outer_skull.surf /projects/MINDLAB2015_MEG-Sememene/scratch/fs_subjects_dir/0010_HXN/bem/outer_skull.surf && touch /projects/MINDLAB2015_MEG-Sememene/scratch/fs_subjects_dir/0010_HXN/bem/outer_skull.surf\n",
      "mne_convert_surface --tri /projects/MINDLAB2015_MEG-Sememene/scratch/fs_subjects_dir/0010_HXN/bem/flash/outer_skin.tri  --surfout /projects/MINDLAB2015_MEG-Sememene/scratch/fs_subjects_dir/0010_HXN/bem/flash/outer_skin.surf --swap --mghmri /projects/MINDLAB2015_MEG-Sememene/scratch/fs_subjects_dir/0010_HXN/mri/flash/parameter_maps/flash5_reg.mgz\n",
      "rm -f /projects/MINDLAB2015_MEG-Sememene/scratch/fs_subjects_dir/0010_HXN/bem/outer_skin.surf && ln -s /projects/MINDLAB2015_MEG-Sememene/scratch/fs_subjects_dir/0010_HXN/bem/flash/outer_skin.surf /projects/MINDLAB2015_MEG-Sememene/scratch/fs_subjects_dir/0010_HXN/bem/outer_skin.surf && touch /projects/MINDLAB2015_MEG-Sememene/scratch/fs_subjects_dir/0010_HXN/bem/outer_skin.surf\n",
      "cd /projects/MINDLAB2015_MEG-Sememene/scratch/fs_subjects_dir/0010_HXN/bem && mne_surf2bem --surf outer_skin.surf --check --fif 0010_HXN-head-sparse.fif\n",
      "rm -f 0010_HXN-head.fif && ln -s 0010_HXN-head-sparse.fif 0010_HXN-head.fif\n"
     ]
    }
   ],
   "source": [
    "fs_flash.submit(fake=True)"
   ]
  },
  {
   "cell_type": "code",
   "execution_count": 6,
   "metadata": {
    "collapsed": false
   },
   "outputs": [
    {
     "name": "stdout",
     "output_type": "stream",
     "text": [
      "Cluster job submitted, job ID: 3805313\n"
     ]
    }
   ],
   "source": [
    "fs_flash.submit()"
   ]
  },
  {
   "cell_type": "code",
   "execution_count": 13,
   "metadata": {
    "collapsed": false
   },
   "outputs": [
    {
     "name": "stdout",
     "output_type": "stream",
     "text": [
      "#1 (3805313): Job completed\n"
     ]
    }
   ],
   "source": [
    "fs_flash.status"
   ]
  },
  {
   "cell_type": "markdown",
   "metadata": {},
   "source": [
    "### SimNIBS surface extraction"
   ]
  },
  {
   "cell_type": "code",
   "execution_count": 1,
   "metadata": {
    "collapsed": true
   },
   "outputs": [],
   "source": [
    "import os.path as op\n",
    "from stormdb.process import SimNIBS"
   ]
  },
  {
   "cell_type": "code",
   "execution_count": 2,
   "metadata": {
    "collapsed": true
   },
   "outputs": [],
   "source": [
    "proj_name = 'MINDLAB2016_MEG-Language-PD-DBS'\n",
    "subject = '0008_CCP'  # full code must be given!\n",
    "output_dir = op.join('/projects', proj_name, 'scratch', 'sn_subjects_dir')\n",
    "subjects_dir = op.join('/projects', proj_name, 'scratch', 'fs_subjects_dir')"
   ]
  },
  {
   "cell_type": "code",
   "execution_count": 3,
   "metadata": {
    "collapsed": false
   },
   "outputs": [],
   "source": [
    "sn_bem = SimNIBS(proj_name=proj_name, output_dir=output_dir)\n",
    "sn_bem.create_bem_surfaces?"
   ]
  },
  {
   "cell_type": "code",
   "execution_count": 4,
   "metadata": {
    "collapsed": false
   },
   "outputs": [
    {
     "name": "stdout",
     "output_type": "stream",
     "text": [
      "0008_CCP\n",
      "1 jobs created successfully, ready to submit.\n"
     ]
    }
   ],
   "source": [
    "sn_bem.create_bem_surfaces(subject, make_coreg_head=False)"
   ]
  },
  {
   "cell_type": "code",
   "execution_count": 6,
   "metadata": {
    "collapsed": false
   },
   "outputs": [
    {
     "name": "stdout",
     "output_type": "stream",
     "text": [
      "Cluster job submitted, job ID: 3818283\n"
     ]
    }
   ],
   "source": [
    "sn_bem.submit()"
   ]
  },
  {
   "cell_type": "code",
   "execution_count": 9,
   "metadata": {
    "collapsed": false,
    "scrolled": true
   },
   "outputs": [
    {
     "name": "stdout",
     "output_type": "stream",
     "text": [
      "#1 (3818283): Job completed\n"
     ]
    }
   ],
   "source": [
    "sn_bem.status"
   ]
  },
  {
   "cell_type": "markdown",
   "metadata": {},
   "source": [
    "# Visualise the BEM surfaces\n",
    "\n",
    "Done here for the final example using `SimNIBS`-based surfaces. Uncomment the following cell to show watershed- or flash-based surfaces."
   ]
  },
  {
   "cell_type": "code",
   "execution_count": 10,
   "metadata": {
    "collapsed": false
   },
   "outputs": [],
   "source": [
    "# proj_name = 'MINDLAB2015_MEG-Sememene'\n",
    "# subject = '0010_HXN'  # full code must be given!\n",
    "# subjects_dir = op.join('/projects', proj_name, 'scratch', 'fs_subjects_dir')"
   ]
  },
  {
   "cell_type": "code",
   "execution_count": 11,
   "metadata": {
    "collapsed": true
   },
   "outputs": [],
   "source": [
    "%matplotlib notebook"
   ]
  },
  {
   "cell_type": "code",
   "execution_count": 12,
   "metadata": {
    "collapsed": true
   },
   "outputs": [],
   "source": [
    "from mne.viz import plot_bem"
   ]
  },
  {
   "cell_type": "code",
   "execution_count": 13,
   "metadata": {
    "collapsed": false
   },
   "outputs": [
    {
     "name": "stdout",
     "output_type": "stream",
     "text": [
      "Using surface: /projects/MINDLAB2016_MEG-Language-PD-DBS/scratch/fs_subjects_dir/0008_CCP/bem/inner_skull.surf\n",
      "Using surface: /projects/MINDLAB2016_MEG-Language-PD-DBS/scratch/fs_subjects_dir/0008_CCP/bem/outer_skull.surf\n",
      "Using surface: /projects/MINDLAB2016_MEG-Language-PD-DBS/scratch/fs_subjects_dir/0008_CCP/bem/outer_skin.surf\n",
      "Triangle file: created by cjb on Fri Feb  3 18:30:05 2017 nvert = 5120 ntri = 10236\n",
      "Triangle file: created by cjb on Fri Feb  3 18:29:30 2017 nvert = 5120 ntri = 10236\n",
      "Triangle file: created by cjb on Fri Feb  3 18:29:40 2017 nvert = 5120 ntri = 10252\n",
      "Triangle file: created by cjb on Fri Feb  3 05:06:46 2017 nvert = 163504 ntri = 327004\n",
      "Triangle file: created by cjb on Fri Feb  3 05:27:35 2017 nvert = 164886 ntri = 329768\n"
     ]
    },
    {
     "data": {
      "application/javascript": [
       "/* Put everything inside the global mpl namespace */\n",
       "window.mpl = {};\n",
       "\n",
       "mpl.get_websocket_type = function() {\n",
       "    if (typeof(WebSocket) !== 'undefined') {\n",
       "        return WebSocket;\n",
       "    } else if (typeof(MozWebSocket) !== 'undefined') {\n",
       "        return MozWebSocket;\n",
       "    } else {\n",
       "        alert('Your browser does not have WebSocket support.' +\n",
       "              'Please try Chrome, Safari or Firefox ≥ 6. ' +\n",
       "              'Firefox 4 and 5 are also supported but you ' +\n",
       "              'have to enable WebSockets in about:config.');\n",
       "    };\n",
       "}\n",
       "\n",
       "mpl.figure = function(figure_id, websocket, ondownload, parent_element) {\n",
       "    this.id = figure_id;\n",
       "\n",
       "    this.ws = websocket;\n",
       "\n",
       "    this.supports_binary = (this.ws.binaryType != undefined);\n",
       "\n",
       "    if (!this.supports_binary) {\n",
       "        var warnings = document.getElementById(\"mpl-warnings\");\n",
       "        if (warnings) {\n",
       "            warnings.style.display = 'block';\n",
       "            warnings.textContent = (\n",
       "                \"This browser does not support binary websocket messages. \" +\n",
       "                    \"Performance may be slow.\");\n",
       "        }\n",
       "    }\n",
       "\n",
       "    this.imageObj = new Image();\n",
       "\n",
       "    this.context = undefined;\n",
       "    this.message = undefined;\n",
       "    this.canvas = undefined;\n",
       "    this.rubberband_canvas = undefined;\n",
       "    this.rubberband_context = undefined;\n",
       "    this.format_dropdown = undefined;\n",
       "\n",
       "    this.image_mode = 'full';\n",
       "\n",
       "    this.root = $('<div/>');\n",
       "    this._root_extra_style(this.root)\n",
       "    this.root.attr('style', 'display: inline-block');\n",
       "\n",
       "    $(parent_element).append(this.root);\n",
       "\n",
       "    this._init_header(this);\n",
       "    this._init_canvas(this);\n",
       "    this._init_toolbar(this);\n",
       "\n",
       "    var fig = this;\n",
       "\n",
       "    this.waiting = false;\n",
       "\n",
       "    this.ws.onopen =  function () {\n",
       "            fig.send_message(\"supports_binary\", {value: fig.supports_binary});\n",
       "            fig.send_message(\"send_image_mode\", {});\n",
       "            fig.send_message(\"refresh\", {});\n",
       "        }\n",
       "\n",
       "    this.imageObj.onload = function() {\n",
       "            if (fig.image_mode == 'full') {\n",
       "                // Full images could contain transparency (where diff images\n",
       "                // almost always do), so we need to clear the canvas so that\n",
       "                // there is no ghosting.\n",
       "                fig.context.clearRect(0, 0, fig.canvas.width, fig.canvas.height);\n",
       "            }\n",
       "            fig.context.drawImage(fig.imageObj, 0, 0);\n",
       "        };\n",
       "\n",
       "    this.imageObj.onunload = function() {\n",
       "        this.ws.close();\n",
       "    }\n",
       "\n",
       "    this.ws.onmessage = this._make_on_message_function(this);\n",
       "\n",
       "    this.ondownload = ondownload;\n",
       "}\n",
       "\n",
       "mpl.figure.prototype._init_header = function() {\n",
       "    var titlebar = $(\n",
       "        '<div class=\"ui-dialog-titlebar ui-widget-header ui-corner-all ' +\n",
       "        'ui-helper-clearfix\"/>');\n",
       "    var titletext = $(\n",
       "        '<div class=\"ui-dialog-title\" style=\"width: 100%; ' +\n",
       "        'text-align: center; padding: 3px;\"/>');\n",
       "    titlebar.append(titletext)\n",
       "    this.root.append(titlebar);\n",
       "    this.header = titletext[0];\n",
       "}\n",
       "\n",
       "\n",
       "\n",
       "mpl.figure.prototype._canvas_extra_style = function(canvas_div) {\n",
       "\n",
       "}\n",
       "\n",
       "\n",
       "mpl.figure.prototype._root_extra_style = function(canvas_div) {\n",
       "\n",
       "}\n",
       "\n",
       "mpl.figure.prototype._init_canvas = function() {\n",
       "    var fig = this;\n",
       "\n",
       "    var canvas_div = $('<div/>');\n",
       "\n",
       "    canvas_div.attr('style', 'position: relative; clear: both; outline: 0');\n",
       "\n",
       "    function canvas_keyboard_event(event) {\n",
       "        return fig.key_event(event, event['data']);\n",
       "    }\n",
       "\n",
       "    canvas_div.keydown('key_press', canvas_keyboard_event);\n",
       "    canvas_div.keyup('key_release', canvas_keyboard_event);\n",
       "    this.canvas_div = canvas_div\n",
       "    this._canvas_extra_style(canvas_div)\n",
       "    this.root.append(canvas_div);\n",
       "\n",
       "    var canvas = $('<canvas/>');\n",
       "    canvas.addClass('mpl-canvas');\n",
       "    canvas.attr('style', \"left: 0; top: 0; z-index: 0; outline: 0\")\n",
       "\n",
       "    this.canvas = canvas[0];\n",
       "    this.context = canvas[0].getContext(\"2d\");\n",
       "\n",
       "    var rubberband = $('<canvas/>');\n",
       "    rubberband.attr('style', \"position: absolute; left: 0; top: 0; z-index: 1;\")\n",
       "\n",
       "    var pass_mouse_events = true;\n",
       "\n",
       "    canvas_div.resizable({\n",
       "        start: function(event, ui) {\n",
       "            pass_mouse_events = false;\n",
       "        },\n",
       "        resize: function(event, ui) {\n",
       "            fig.request_resize(ui.size.width, ui.size.height);\n",
       "        },\n",
       "        stop: function(event, ui) {\n",
       "            pass_mouse_events = true;\n",
       "            fig.request_resize(ui.size.width, ui.size.height);\n",
       "        },\n",
       "    });\n",
       "\n",
       "    function mouse_event_fn(event) {\n",
       "        if (pass_mouse_events)\n",
       "            return fig.mouse_event(event, event['data']);\n",
       "    }\n",
       "\n",
       "    rubberband.mousedown('button_press', mouse_event_fn);\n",
       "    rubberband.mouseup('button_release', mouse_event_fn);\n",
       "    // Throttle sequential mouse events to 1 every 20ms.\n",
       "    rubberband.mousemove('motion_notify', mouse_event_fn);\n",
       "\n",
       "    rubberband.mouseenter('figure_enter', mouse_event_fn);\n",
       "    rubberband.mouseleave('figure_leave', mouse_event_fn);\n",
       "\n",
       "    canvas_div.on(\"wheel\", function (event) {\n",
       "        event = event.originalEvent;\n",
       "        event['data'] = 'scroll'\n",
       "        if (event.deltaY < 0) {\n",
       "            event.step = 1;\n",
       "        } else {\n",
       "            event.step = -1;\n",
       "        }\n",
       "        mouse_event_fn(event);\n",
       "    });\n",
       "\n",
       "    canvas_div.append(canvas);\n",
       "    canvas_div.append(rubberband);\n",
       "\n",
       "    this.rubberband = rubberband;\n",
       "    this.rubberband_canvas = rubberband[0];\n",
       "    this.rubberband_context = rubberband[0].getContext(\"2d\");\n",
       "    this.rubberband_context.strokeStyle = \"#000000\";\n",
       "\n",
       "    this._resize_canvas = function(width, height) {\n",
       "        // Keep the size of the canvas, canvas container, and rubber band\n",
       "        // canvas in synch.\n",
       "        canvas_div.css('width', width)\n",
       "        canvas_div.css('height', height)\n",
       "\n",
       "        canvas.attr('width', width);\n",
       "        canvas.attr('height', height);\n",
       "\n",
       "        rubberband.attr('width', width);\n",
       "        rubberband.attr('height', height);\n",
       "    }\n",
       "\n",
       "    // Set the figure to an initial 600x600px, this will subsequently be updated\n",
       "    // upon first draw.\n",
       "    this._resize_canvas(600, 600);\n",
       "\n",
       "    // Disable right mouse context menu.\n",
       "    $(this.rubberband_canvas).bind(\"contextmenu\",function(e){\n",
       "        return false;\n",
       "    });\n",
       "\n",
       "    function set_focus () {\n",
       "        canvas.focus();\n",
       "        canvas_div.focus();\n",
       "    }\n",
       "\n",
       "    window.setTimeout(set_focus, 100);\n",
       "}\n",
       "\n",
       "mpl.figure.prototype._init_toolbar = function() {\n",
       "    var fig = this;\n",
       "\n",
       "    var nav_element = $('<div/>')\n",
       "    nav_element.attr('style', 'width: 100%');\n",
       "    this.root.append(nav_element);\n",
       "\n",
       "    // Define a callback function for later on.\n",
       "    function toolbar_event(event) {\n",
       "        return fig.toolbar_button_onclick(event['data']);\n",
       "    }\n",
       "    function toolbar_mouse_event(event) {\n",
       "        return fig.toolbar_button_onmouseover(event['data']);\n",
       "    }\n",
       "\n",
       "    for(var toolbar_ind in mpl.toolbar_items) {\n",
       "        var name = mpl.toolbar_items[toolbar_ind][0];\n",
       "        var tooltip = mpl.toolbar_items[toolbar_ind][1];\n",
       "        var image = mpl.toolbar_items[toolbar_ind][2];\n",
       "        var method_name = mpl.toolbar_items[toolbar_ind][3];\n",
       "\n",
       "        if (!name) {\n",
       "            // put a spacer in here.\n",
       "            continue;\n",
       "        }\n",
       "        var button = $('<button/>');\n",
       "        button.addClass('ui-button ui-widget ui-state-default ui-corner-all ' +\n",
       "                        'ui-button-icon-only');\n",
       "        button.attr('role', 'button');\n",
       "        button.attr('aria-disabled', 'false');\n",
       "        button.click(method_name, toolbar_event);\n",
       "        button.mouseover(tooltip, toolbar_mouse_event);\n",
       "\n",
       "        var icon_img = $('<span/>');\n",
       "        icon_img.addClass('ui-button-icon-primary ui-icon');\n",
       "        icon_img.addClass(image);\n",
       "        icon_img.addClass('ui-corner-all');\n",
       "\n",
       "        var tooltip_span = $('<span/>');\n",
       "        tooltip_span.addClass('ui-button-text');\n",
       "        tooltip_span.html(tooltip);\n",
       "\n",
       "        button.append(icon_img);\n",
       "        button.append(tooltip_span);\n",
       "\n",
       "        nav_element.append(button);\n",
       "    }\n",
       "\n",
       "    var fmt_picker_span = $('<span/>');\n",
       "\n",
       "    var fmt_picker = $('<select/>');\n",
       "    fmt_picker.addClass('mpl-toolbar-option ui-widget ui-widget-content');\n",
       "    fmt_picker_span.append(fmt_picker);\n",
       "    nav_element.append(fmt_picker_span);\n",
       "    this.format_dropdown = fmt_picker[0];\n",
       "\n",
       "    for (var ind in mpl.extensions) {\n",
       "        var fmt = mpl.extensions[ind];\n",
       "        var option = $(\n",
       "            '<option/>', {selected: fmt === mpl.default_extension}).html(fmt);\n",
       "        fmt_picker.append(option)\n",
       "    }\n",
       "\n",
       "    // Add hover states to the ui-buttons\n",
       "    $( \".ui-button\" ).hover(\n",
       "        function() { $(this).addClass(\"ui-state-hover\");},\n",
       "        function() { $(this).removeClass(\"ui-state-hover\");}\n",
       "    );\n",
       "\n",
       "    var status_bar = $('<span class=\"mpl-message\"/>');\n",
       "    nav_element.append(status_bar);\n",
       "    this.message = status_bar[0];\n",
       "}\n",
       "\n",
       "mpl.figure.prototype.request_resize = function(x_pixels, y_pixels) {\n",
       "    // Request matplotlib to resize the figure. Matplotlib will then trigger a resize in the client,\n",
       "    // which will in turn request a refresh of the image.\n",
       "    this.send_message('resize', {'width': x_pixels, 'height': y_pixels});\n",
       "}\n",
       "\n",
       "mpl.figure.prototype.send_message = function(type, properties) {\n",
       "    properties['type'] = type;\n",
       "    properties['figure_id'] = this.id;\n",
       "    this.ws.send(JSON.stringify(properties));\n",
       "}\n",
       "\n",
       "mpl.figure.prototype.send_draw_message = function() {\n",
       "    if (!this.waiting) {\n",
       "        this.waiting = true;\n",
       "        this.ws.send(JSON.stringify({type: \"draw\", figure_id: this.id}));\n",
       "    }\n",
       "}\n",
       "\n",
       "\n",
       "mpl.figure.prototype.handle_save = function(fig, msg) {\n",
       "    var format_dropdown = fig.format_dropdown;\n",
       "    var format = format_dropdown.options[format_dropdown.selectedIndex].value;\n",
       "    fig.ondownload(fig, format);\n",
       "}\n",
       "\n",
       "\n",
       "mpl.figure.prototype.handle_resize = function(fig, msg) {\n",
       "    var size = msg['size'];\n",
       "    if (size[0] != fig.canvas.width || size[1] != fig.canvas.height) {\n",
       "        fig._resize_canvas(size[0], size[1]);\n",
       "        fig.send_message(\"refresh\", {});\n",
       "    };\n",
       "}\n",
       "\n",
       "mpl.figure.prototype.handle_rubberband = function(fig, msg) {\n",
       "    var x0 = msg['x0'];\n",
       "    var y0 = fig.canvas.height - msg['y0'];\n",
       "    var x1 = msg['x1'];\n",
       "    var y1 = fig.canvas.height - msg['y1'];\n",
       "    x0 = Math.floor(x0) + 0.5;\n",
       "    y0 = Math.floor(y0) + 0.5;\n",
       "    x1 = Math.floor(x1) + 0.5;\n",
       "    y1 = Math.floor(y1) + 0.5;\n",
       "    var min_x = Math.min(x0, x1);\n",
       "    var min_y = Math.min(y0, y1);\n",
       "    var width = Math.abs(x1 - x0);\n",
       "    var height = Math.abs(y1 - y0);\n",
       "\n",
       "    fig.rubberband_context.clearRect(\n",
       "        0, 0, fig.canvas.width, fig.canvas.height);\n",
       "\n",
       "    fig.rubberband_context.strokeRect(min_x, min_y, width, height);\n",
       "}\n",
       "\n",
       "mpl.figure.prototype.handle_figure_label = function(fig, msg) {\n",
       "    // Updates the figure title.\n",
       "    fig.header.textContent = msg['label'];\n",
       "}\n",
       "\n",
       "mpl.figure.prototype.handle_cursor = function(fig, msg) {\n",
       "    var cursor = msg['cursor'];\n",
       "    switch(cursor)\n",
       "    {\n",
       "    case 0:\n",
       "        cursor = 'pointer';\n",
       "        break;\n",
       "    case 1:\n",
       "        cursor = 'default';\n",
       "        break;\n",
       "    case 2:\n",
       "        cursor = 'crosshair';\n",
       "        break;\n",
       "    case 3:\n",
       "        cursor = 'move';\n",
       "        break;\n",
       "    }\n",
       "    fig.rubberband_canvas.style.cursor = cursor;\n",
       "}\n",
       "\n",
       "mpl.figure.prototype.handle_message = function(fig, msg) {\n",
       "    fig.message.textContent = msg['message'];\n",
       "}\n",
       "\n",
       "mpl.figure.prototype.handle_draw = function(fig, msg) {\n",
       "    // Request the server to send over a new figure.\n",
       "    fig.send_draw_message();\n",
       "}\n",
       "\n",
       "mpl.figure.prototype.handle_image_mode = function(fig, msg) {\n",
       "    fig.image_mode = msg['mode'];\n",
       "}\n",
       "\n",
       "mpl.figure.prototype.updated_canvas_event = function() {\n",
       "    // Called whenever the canvas gets updated.\n",
       "    this.send_message(\"ack\", {});\n",
       "}\n",
       "\n",
       "// A function to construct a web socket function for onmessage handling.\n",
       "// Called in the figure constructor.\n",
       "mpl.figure.prototype._make_on_message_function = function(fig) {\n",
       "    return function socket_on_message(evt) {\n",
       "        if (evt.data instanceof Blob) {\n",
       "            /* FIXME: We get \"Resource interpreted as Image but\n",
       "             * transferred with MIME type text/plain:\" errors on\n",
       "             * Chrome.  But how to set the MIME type?  It doesn't seem\n",
       "             * to be part of the websocket stream */\n",
       "            evt.data.type = \"image/png\";\n",
       "\n",
       "            /* Free the memory for the previous frames */\n",
       "            if (fig.imageObj.src) {\n",
       "                (window.URL || window.webkitURL).revokeObjectURL(\n",
       "                    fig.imageObj.src);\n",
       "            }\n",
       "\n",
       "            fig.imageObj.src = (window.URL || window.webkitURL).createObjectURL(\n",
       "                evt.data);\n",
       "            fig.updated_canvas_event();\n",
       "            fig.waiting = false;\n",
       "            return;\n",
       "        }\n",
       "        else if (typeof evt.data === 'string' && evt.data.slice(0, 21) == \"data:image/png;base64\") {\n",
       "            fig.imageObj.src = evt.data;\n",
       "            fig.updated_canvas_event();\n",
       "            fig.waiting = false;\n",
       "            return;\n",
       "        }\n",
       "\n",
       "        var msg = JSON.parse(evt.data);\n",
       "        var msg_type = msg['type'];\n",
       "\n",
       "        // Call the  \"handle_{type}\" callback, which takes\n",
       "        // the figure and JSON message as its only arguments.\n",
       "        try {\n",
       "            var callback = fig[\"handle_\" + msg_type];\n",
       "        } catch (e) {\n",
       "            console.log(\"No handler for the '\" + msg_type + \"' message type: \", msg);\n",
       "            return;\n",
       "        }\n",
       "\n",
       "        if (callback) {\n",
       "            try {\n",
       "                // console.log(\"Handling '\" + msg_type + \"' message: \", msg);\n",
       "                callback(fig, msg);\n",
       "            } catch (e) {\n",
       "                console.log(\"Exception inside the 'handler_\" + msg_type + \"' callback:\", e, e.stack, msg);\n",
       "            }\n",
       "        }\n",
       "    };\n",
       "}\n",
       "\n",
       "// from http://stackoverflow.com/questions/1114465/getting-mouse-location-in-canvas\n",
       "mpl.findpos = function(e) {\n",
       "    //this section is from http://www.quirksmode.org/js/events_properties.html\n",
       "    var targ;\n",
       "    if (!e)\n",
       "        e = window.event;\n",
       "    if (e.target)\n",
       "        targ = e.target;\n",
       "    else if (e.srcElement)\n",
       "        targ = e.srcElement;\n",
       "    if (targ.nodeType == 3) // defeat Safari bug\n",
       "        targ = targ.parentNode;\n",
       "\n",
       "    // jQuery normalizes the pageX and pageY\n",
       "    // pageX,Y are the mouse positions relative to the document\n",
       "    // offset() returns the position of the element relative to the document\n",
       "    var x = e.pageX - $(targ).offset().left;\n",
       "    var y = e.pageY - $(targ).offset().top;\n",
       "\n",
       "    return {\"x\": x, \"y\": y};\n",
       "};\n",
       "\n",
       "/*\n",
       " * return a copy of an object with only non-object keys\n",
       " * we need this to avoid circular references\n",
       " * http://stackoverflow.com/a/24161582/3208463\n",
       " */\n",
       "function simpleKeys (original) {\n",
       "  return Object.keys(original).reduce(function (obj, key) {\n",
       "    if (typeof original[key] !== 'object')\n",
       "        obj[key] = original[key]\n",
       "    return obj;\n",
       "  }, {});\n",
       "}\n",
       "\n",
       "mpl.figure.prototype.mouse_event = function(event, name) {\n",
       "    var canvas_pos = mpl.findpos(event)\n",
       "\n",
       "    if (name === 'button_press')\n",
       "    {\n",
       "        this.canvas.focus();\n",
       "        this.canvas_div.focus();\n",
       "    }\n",
       "\n",
       "    var x = canvas_pos.x;\n",
       "    var y = canvas_pos.y;\n",
       "\n",
       "    this.send_message(name, {x: x, y: y, button: event.button,\n",
       "                             step: event.step,\n",
       "                             guiEvent: simpleKeys(event)});\n",
       "\n",
       "    /* This prevents the web browser from automatically changing to\n",
       "     * the text insertion cursor when the button is pressed.  We want\n",
       "     * to control all of the cursor setting manually through the\n",
       "     * 'cursor' event from matplotlib */\n",
       "    event.preventDefault();\n",
       "    return false;\n",
       "}\n",
       "\n",
       "mpl.figure.prototype._key_event_extra = function(event, name) {\n",
       "    // Handle any extra behaviour associated with a key event\n",
       "}\n",
       "\n",
       "mpl.figure.prototype.key_event = function(event, name) {\n",
       "\n",
       "    // Prevent repeat events\n",
       "    if (name == 'key_press')\n",
       "    {\n",
       "        if (event.which === this._key)\n",
       "            return;\n",
       "        else\n",
       "            this._key = event.which;\n",
       "    }\n",
       "    if (name == 'key_release')\n",
       "        this._key = null;\n",
       "\n",
       "    var value = '';\n",
       "    if (event.ctrlKey && event.which != 17)\n",
       "        value += \"ctrl+\";\n",
       "    if (event.altKey && event.which != 18)\n",
       "        value += \"alt+\";\n",
       "    if (event.shiftKey && event.which != 16)\n",
       "        value += \"shift+\";\n",
       "\n",
       "    value += 'k';\n",
       "    value += event.which.toString();\n",
       "\n",
       "    this._key_event_extra(event, name);\n",
       "\n",
       "    this.send_message(name, {key: value,\n",
       "                             guiEvent: simpleKeys(event)});\n",
       "    return false;\n",
       "}\n",
       "\n",
       "mpl.figure.prototype.toolbar_button_onclick = function(name) {\n",
       "    if (name == 'download') {\n",
       "        this.handle_save(this, null);\n",
       "    } else {\n",
       "        this.send_message(\"toolbar_button\", {name: name});\n",
       "    }\n",
       "};\n",
       "\n",
       "mpl.figure.prototype.toolbar_button_onmouseover = function(tooltip) {\n",
       "    this.message.textContent = tooltip;\n",
       "};\n",
       "mpl.toolbar_items = [[\"Home\", \"Reset original view\", \"fa fa-home icon-home\", \"home\"], [\"Back\", \"Back to  previous view\", \"fa fa-arrow-left icon-arrow-left\", \"back\"], [\"Forward\", \"Forward to next view\", \"fa fa-arrow-right icon-arrow-right\", \"forward\"], [\"\", \"\", \"\", \"\"], [\"Pan\", \"Pan axes with left mouse, zoom with right\", \"fa fa-arrows icon-move\", \"pan\"], [\"Zoom\", \"Zoom to rectangle\", \"fa fa-square-o icon-check-empty\", \"zoom\"], [\"\", \"\", \"\", \"\"], [\"Download\", \"Download plot\", \"fa fa-floppy-o icon-save\", \"download\"]];\n",
       "\n",
       "mpl.extensions = [\"eps\", \"jpeg\", \"pdf\", \"png\", \"ps\", \"raw\", \"svg\", \"tif\"];\n",
       "\n",
       "mpl.default_extension = \"png\";var comm_websocket_adapter = function(comm) {\n",
       "    // Create a \"websocket\"-like object which calls the given IPython comm\n",
       "    // object with the appropriate methods. Currently this is a non binary\n",
       "    // socket, so there is still some room for performance tuning.\n",
       "    var ws = {};\n",
       "\n",
       "    ws.close = function() {\n",
       "        comm.close()\n",
       "    };\n",
       "    ws.send = function(m) {\n",
       "        //console.log('sending', m);\n",
       "        comm.send(m);\n",
       "    };\n",
       "    // Register the callback with on_msg.\n",
       "    comm.on_msg(function(msg) {\n",
       "        //console.log('receiving', msg['content']['data'], msg);\n",
       "        // Pass the mpl event to the overriden (by mpl) onmessage function.\n",
       "        ws.onmessage(msg['content']['data'])\n",
       "    });\n",
       "    return ws;\n",
       "}\n",
       "\n",
       "mpl.mpl_figure_comm = function(comm, msg) {\n",
       "    // This is the function which gets called when the mpl process\n",
       "    // starts-up an IPython Comm through the \"matplotlib\" channel.\n",
       "\n",
       "    var id = msg.content.data.id;\n",
       "    // Get hold of the div created by the display call when the Comm\n",
       "    // socket was opened in Python.\n",
       "    var element = $(\"#\" + id);\n",
       "    var ws_proxy = comm_websocket_adapter(comm)\n",
       "\n",
       "    function ondownload(figure, format) {\n",
       "        window.open(figure.imageObj.src);\n",
       "    }\n",
       "\n",
       "    var fig = new mpl.figure(id, ws_proxy,\n",
       "                           ondownload,\n",
       "                           element.get(0));\n",
       "\n",
       "    // Call onopen now - mpl needs it, as it is assuming we've passed it a real\n",
       "    // web socket which is closed, not our websocket->open comm proxy.\n",
       "    ws_proxy.onopen();\n",
       "\n",
       "    fig.parent_element = element.get(0);\n",
       "    fig.cell_info = mpl.find_output_cell(\"<div id='\" + id + \"'></div>\");\n",
       "    if (!fig.cell_info) {\n",
       "        console.error(\"Failed to find cell for figure\", id, fig);\n",
       "        return;\n",
       "    }\n",
       "\n",
       "    var output_index = fig.cell_info[2]\n",
       "    var cell = fig.cell_info[0];\n",
       "\n",
       "};\n",
       "\n",
       "mpl.figure.prototype.handle_close = function(fig, msg) {\n",
       "    fig.root.unbind('remove')\n",
       "\n",
       "    // Update the output cell to use the data from the current canvas.\n",
       "    fig.push_to_output();\n",
       "    var dataURL = fig.canvas.toDataURL();\n",
       "    // Re-enable the keyboard manager in IPython - without this line, in FF,\n",
       "    // the notebook keyboard shortcuts fail.\n",
       "    IPython.keyboard_manager.enable()\n",
       "    $(fig.parent_element).html('<img src=\"' + dataURL + '\">');\n",
       "    fig.close_ws(fig, msg);\n",
       "}\n",
       "\n",
       "mpl.figure.prototype.close_ws = function(fig, msg){\n",
       "    fig.send_message('closing', msg);\n",
       "    // fig.ws.close()\n",
       "}\n",
       "\n",
       "mpl.figure.prototype.push_to_output = function(remove_interactive) {\n",
       "    // Turn the data on the canvas into data in the output cell.\n",
       "    var dataURL = this.canvas.toDataURL();\n",
       "    this.cell_info[1]['text/html'] = '<img src=\"' + dataURL + '\">';\n",
       "}\n",
       "\n",
       "mpl.figure.prototype.updated_canvas_event = function() {\n",
       "    // Tell IPython that the notebook contents must change.\n",
       "    IPython.notebook.set_dirty(true);\n",
       "    this.send_message(\"ack\", {});\n",
       "    var fig = this;\n",
       "    // Wait a second, then push the new image to the DOM so\n",
       "    // that it is saved nicely (might be nice to debounce this).\n",
       "    setTimeout(function () { fig.push_to_output() }, 1000);\n",
       "}\n",
       "\n",
       "mpl.figure.prototype._init_toolbar = function() {\n",
       "    var fig = this;\n",
       "\n",
       "    var nav_element = $('<div/>')\n",
       "    nav_element.attr('style', 'width: 100%');\n",
       "    this.root.append(nav_element);\n",
       "\n",
       "    // Define a callback function for later on.\n",
       "    function toolbar_event(event) {\n",
       "        return fig.toolbar_button_onclick(event['data']);\n",
       "    }\n",
       "    function toolbar_mouse_event(event) {\n",
       "        return fig.toolbar_button_onmouseover(event['data']);\n",
       "    }\n",
       "\n",
       "    for(var toolbar_ind in mpl.toolbar_items){\n",
       "        var name = mpl.toolbar_items[toolbar_ind][0];\n",
       "        var tooltip = mpl.toolbar_items[toolbar_ind][1];\n",
       "        var image = mpl.toolbar_items[toolbar_ind][2];\n",
       "        var method_name = mpl.toolbar_items[toolbar_ind][3];\n",
       "\n",
       "        if (!name) { continue; };\n",
       "\n",
       "        var button = $('<button class=\"btn btn-default\" href=\"#\" title=\"' + name + '\"><i class=\"fa ' + image + ' fa-lg\"></i></button>');\n",
       "        button.click(method_name, toolbar_event);\n",
       "        button.mouseover(tooltip, toolbar_mouse_event);\n",
       "        nav_element.append(button);\n",
       "    }\n",
       "\n",
       "    // Add the status bar.\n",
       "    var status_bar = $('<span class=\"mpl-message\" style=\"text-align:right; float: right;\"/>');\n",
       "    nav_element.append(status_bar);\n",
       "    this.message = status_bar[0];\n",
       "\n",
       "    // Add the close button to the window.\n",
       "    var buttongrp = $('<div class=\"btn-group inline pull-right\"></div>');\n",
       "    var button = $('<button class=\"btn btn-mini btn-primary\" href=\"#\" title=\"Stop Interaction\"><i class=\"fa fa-power-off icon-remove icon-large\"></i></button>');\n",
       "    button.click(function (evt) { fig.handle_close(fig, {}); } );\n",
       "    button.mouseover('Stop Interaction', toolbar_mouse_event);\n",
       "    buttongrp.append(button);\n",
       "    var titlebar = this.root.find($('.ui-dialog-titlebar'));\n",
       "    titlebar.prepend(buttongrp);\n",
       "}\n",
       "\n",
       "mpl.figure.prototype._root_extra_style = function(el){\n",
       "    var fig = this\n",
       "    el.on(\"remove\", function(){\n",
       "\tfig.close_ws(fig, {});\n",
       "    });\n",
       "}\n",
       "\n",
       "mpl.figure.prototype._canvas_extra_style = function(el){\n",
       "    // this is important to make the div 'focusable\n",
       "    el.attr('tabindex', 0)\n",
       "    // reach out to IPython and tell the keyboard manager to turn it's self\n",
       "    // off when our div gets focus\n",
       "\n",
       "    // location in version 3\n",
       "    if (IPython.notebook.keyboard_manager) {\n",
       "        IPython.notebook.keyboard_manager.register_events(el);\n",
       "    }\n",
       "    else {\n",
       "        // location in version 2\n",
       "        IPython.keyboard_manager.register_events(el);\n",
       "    }\n",
       "\n",
       "}\n",
       "\n",
       "mpl.figure.prototype._key_event_extra = function(event, name) {\n",
       "    var manager = IPython.notebook.keyboard_manager;\n",
       "    if (!manager)\n",
       "        manager = IPython.keyboard_manager;\n",
       "\n",
       "    // Check for shift+enter\n",
       "    if (event.shiftKey && event.which == 13) {\n",
       "        this.canvas_div.blur();\n",
       "        event.shiftKey = false;\n",
       "        // Send a \"J\" for go to next cell\n",
       "        event.which = 74;\n",
       "        event.keyCode = 74;\n",
       "        manager.command_mode();\n",
       "        manager.handle_keydown(event);\n",
       "    }\n",
       "}\n",
       "\n",
       "mpl.figure.prototype.handle_save = function(fig, msg) {\n",
       "    fig.ondownload(fig, null);\n",
       "}\n",
       "\n",
       "\n",
       "mpl.find_output_cell = function(html_output) {\n",
       "    // Return the cell and output element which can be found *uniquely* in the notebook.\n",
       "    // Note - this is a bit hacky, but it is done because the \"notebook_saving.Notebook\"\n",
       "    // IPython event is triggered only after the cells have been serialised, which for\n",
       "    // our purposes (turning an active figure into a static one), is too late.\n",
       "    var cells = IPython.notebook.get_cells();\n",
       "    var ncells = cells.length;\n",
       "    for (var i=0; i<ncells; i++) {\n",
       "        var cell = cells[i];\n",
       "        if (cell.cell_type === 'code'){\n",
       "            for (var j=0; j<cell.output_area.outputs.length; j++) {\n",
       "                var data = cell.output_area.outputs[j];\n",
       "                if (data.data) {\n",
       "                    // IPython >= 3 moved mimebundle to data attribute of output\n",
       "                    data = data.data;\n",
       "                }\n",
       "                if (data['text/html'] == html_output) {\n",
       "                    return [cell, data, j];\n",
       "                }\n",
       "            }\n",
       "        }\n",
       "    }\n",
       "}\n",
       "\n",
       "// Register the function which deals with the matplotlib target/channel.\n",
       "// The kernel may be null if the page has been refreshed.\n",
       "if (IPython.notebook.kernel != null) {\n",
       "    IPython.notebook.kernel.comm_manager.register_target('matplotlib', mpl.mpl_figure_comm);\n",
       "}\n"
      ],
      "text/plain": [
       "<IPython.core.display.Javascript object>"
      ]
     },
     "metadata": {},
     "output_type": "display_data"
    },
    {
     "data": {
      "text/html": [
       "<img src=\"data:image/png;base64,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\">"
      ],
      "text/plain": [
       "<IPython.core.display.HTML object>"
      ]
     },
     "metadata": {},
     "output_type": "display_data"
    }
   ],
   "source": [
    "_ = plot_bem(subject=subject, subjects_dir=subjects_dir,\n",
    "             brain_surfaces='white', orientation='coronal')"
   ]
  }
 ],
 "metadata": {
  "kernelspec": {
   "display_name": "Python 2",
   "language": "python",
   "name": "python2"
  },
  "language_info": {
   "codemirror_mode": {
    "name": "ipython",
    "version": 2
   },
   "file_extension": ".py",
   "mimetype": "text/x-python",
   "name": "python",
   "nbconvert_exporter": "python",
   "pygments_lexer": "ipython2",
   "version": "2.7.12"
  }
 },
 "nbformat": 4,
 "nbformat_minor": 1
}
