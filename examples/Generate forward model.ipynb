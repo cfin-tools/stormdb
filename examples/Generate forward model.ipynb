{
 "cells": [
  {
   "cell_type": "markdown",
   "metadata": {},
   "source": [
    "# Forward model for M/EEG source analysis\n",
    "\n",
    "This notebook illustrates how to use features of the `stormdb.process`-module to:\n",
    "\n",
    "* generate a BEM model based on pre-calculated tissue surfaces (_e.g._, inner skull, outer skull and outer skin)\n",
    "* solve the BEM model (calculate interpolation coefficients for the surface elements based on node values)\n",
    "* generate a _source space_ of possible dipole locations for a distributed (_e.g._, MNE) estimate\n",
    "    * based on the cortical sheet (white-matter boundary) extracted using _Freesurfer_ `recon-all`\n",
    "* generate a _forward operator_ for source modeling, using\n",
    "    * solved BEM model\n",
    "    * source space\n",
    "    * head-to-mri transformation\n",
    "    * an MEG measurement file containing the locations of the sensors relative to the head\n",
    "\n",
    "_All computations are performed on the `hyades`-cluster._ The underlying code is based on the implementations found in `mne-python` and all outputs are written in the Neuromag FIF-format.\n",
    "\n",
    "__NB__ The BEM and source space calculations are independent, so we can use the same `MNEPython`-object to hold the jobs, and submit them together/in parallel (steps 1a and 1b below)."
   ]
  },
  {
   "cell_type": "code",
   "execution_count": null,
   "metadata": {
    "collapsed": true
   },
   "outputs": [],
   "source": [
    "import os.path as op\n",
    "from stormdb.process import MNEPython\n",
    "from stormdb.base import mkdir_p  # mkdir -p"
   ]
  },
  {
   "cell_type": "code",
   "execution_count": null,
   "metadata": {
    "collapsed": false
   },
   "outputs": [],
   "source": [
    "proj_name = 'MINDLAB2015_MEG-Sememene'\n",
    "subject = '0010_HXN'  # demo subject\n",
    "scratch_dir = op.join('/projects', proj_name, 'scratch')\n",
    "subjects_dir = op.join(scratch_dir, 'fs_subjects_dir')\n",
    "\n",
    "fwd_dir = op.join(scratch_dir, 'fwd_operators')\n",
    "mkdir_p(fwd_dir)  # create, if not exists"
   ]
  },
  {
   "cell_type": "markdown",
   "metadata": {},
   "source": [
    "## Step 1a: BEM creation and solution\n",
    "\n",
    "The BEM surfaces must be created first (see [this notebook](Generate BEM surfaces from MR.ipynb)). Depending on how many layers are to be used, _conductivity values_ must be specified for the desired number of layers. For example, for a 3-layer model, we might say:"
   ]
  },
  {
   "cell_type": "code",
   "execution_count": null,
   "metadata": {
    "collapsed": true
   },
   "outputs": [],
   "source": [
    "bem_fname = op.join(subjects_dir, subject, 'bem', subject + '-3LBEM-sol.fif')\n",
    "conductivity = [0.3, 0.006, 0.3]  # brain, skull, skin\n",
    "# conductivity = [0.3]  # for a single-layer (inner skull) model"
   ]
  },
  {
   "cell_type": "code",
   "execution_count": null,
   "metadata": {
    "collapsed": false
   },
   "outputs": [],
   "source": [
    "mp = MNEPython(proj_name)"
   ]
  },
  {
   "cell_type": "code",
   "execution_count": null,
   "metadata": {
    "collapsed": false
   },
   "outputs": [],
   "source": [
    "mp.prepare_bem_model(subject, bem_fname, subjects_dir=subjects_dir,\n",
    "                     conductivity=conductivity)"
   ]
  },
  {
   "cell_type": "markdown",
   "metadata": {},
   "source": [
    "## Step 1b: Setup source space\n",
    "\n",
    "Take a `Freesurfer` surface (by default the white matter surface), downsample it to not more than 10,000 points per hemisphere, and save it to disk for later use. The `add_dist` can be used to allow later calls to `cortical patch statistics` (computation time is increased substantially, but with the cluster, you don't need to care!)."
   ]
  },
  {
   "cell_type": "code",
   "execution_count": null,
   "metadata": {
    "collapsed": true
   },
   "outputs": [],
   "source": [
    "src_fname = op.join(subjects_dir, subject, 'bem', subject + '-oct-6-src.fif')"
   ]
  },
  {
   "cell_type": "code",
   "execution_count": null,
   "metadata": {
    "collapsed": false
   },
   "outputs": [],
   "source": [
    "mp.setup_source_space(subject, src_fname, subjects_dir=subjects_dir, add_dist=True)"
   ]
  },
  {
   "cell_type": "markdown",
   "metadata": {},
   "source": [
    "### Submit BEM and souce space together"
   ]
  },
  {
   "cell_type": "code",
   "execution_count": null,
   "metadata": {
    "collapsed": false
   },
   "outputs": [],
   "source": [
    "mp.submit()"
   ]
  },
  {
   "cell_type": "code",
   "execution_count": null,
   "metadata": {
    "collapsed": false
   },
   "outputs": [],
   "source": [
    "mp.status"
   ]
  },
  {
   "cell_type": "markdown",
   "metadata": {
    "collapsed": true
   },
   "source": [
    "## Step 2: Coregistration\n",
    "\n",
    "See [this notebook](Head-to-MRI transformation for combined MEG and EEG.ipynb) for more details on this manual process."
   ]
  },
  {
   "cell_type": "code",
   "execution_count": null,
   "metadata": {
    "collapsed": false
   },
   "outputs": [],
   "source": [
    "trans_dir = op.join(scratch_dir, 'trans')\n",
    "trans_fname = op.join(trans_dir, '0010_HXN_20151201-trans.fif')  # example case"
   ]
  },
  {
   "cell_type": "markdown",
   "metadata": {},
   "source": [
    "## Step 3: Putting it all together"
   ]
  },
  {
   "cell_type": "markdown",
   "metadata": {},
   "source": [
    "The \"measurement\" file name is one containing the head-to-device transformation obtained during the recording. Note that although we are using raw-type file here, epochs and even an averaged \"event\" file could be used here (they all inherit the head position information from the continuous recording they originate from)."
   ]
  },
  {
   "cell_type": "code",
   "execution_count": null,
   "metadata": {
    "collapsed": true
   },
   "outputs": [],
   "source": [
    "meas_fname = op.join(scratch_dir, 'maxfilter/tsss_st10_corr98/0010', 'MMN_block1_raw_tsss.fif')"
   ]
  },
  {
   "cell_type": "markdown",
   "metadata": {},
   "source": [
    "Define output folder for forward operators and the specific file name:"
   ]
  },
  {
   "cell_type": "code",
   "execution_count": null,
   "metadata": {
    "collapsed": false
   },
   "outputs": [],
   "source": [
    "fwd_fname = op.join(fwd_dir, '0010_HXN-MMN_block1-fwd.fif')"
   ]
  },
  {
   "cell_type": "code",
   "execution_count": null,
   "metadata": {
    "collapsed": false
   },
   "outputs": [],
   "source": [
    "mp_fwd = MNEPython(proj_name)  # we could re-use the mp-object from before\n",
    "mp_fwd.make_forward_solution(meas_fname, trans_fname, bem_fname, src_fname, fwd_fname)"
   ]
  },
  {
   "cell_type": "code",
   "execution_count": null,
   "metadata": {
    "collapsed": false
   },
   "outputs": [],
   "source": [
    "mp_fwd.submit()"
   ]
  },
  {
   "cell_type": "code",
   "execution_count": null,
   "metadata": {
    "collapsed": false
   },
   "outputs": [],
   "source": [
    "mp_fwd.status"
   ]
  },
  {
   "cell_type": "markdown",
   "metadata": {},
   "source": [
    "## (Optional) Step 4: Visualise sensitivity distribution\n",
    "\n",
    "__NB__ This will pop up a separate window with a 3D rendering of the gradiometer sensitivity pattern on cortex"
   ]
  },
  {
   "cell_type": "code",
   "execution_count": null,
   "metadata": {
    "collapsed": false
   },
   "outputs": [],
   "source": [
    "%matplotlib qt"
   ]
  },
  {
   "cell_type": "code",
   "execution_count": null,
   "metadata": {
    "collapsed": false
   },
   "outputs": [],
   "source": [
    "from mne import sensitivity_map, read_forward_solution\n",
    "fwd = read_forward_solution(fwd_fname, surf_ori=True)"
   ]
  },
  {
   "cell_type": "code",
   "execution_count": null,
   "metadata": {
    "collapsed": false
   },
   "outputs": [],
   "source": [
    "grad_map = sensitivity_map(fwd, ch_type='grad', mode='fixed')"
   ]
  },
  {
   "cell_type": "code",
   "execution_count": null,
   "metadata": {
    "collapsed": false
   },
   "outputs": [],
   "source": [
    "brain = grad_map.plot(time_label='Gradiometer sensitivity', subjects_dir=subjects_dir,\n",
    "                      clim=dict(lims=[0, 50, 100]))"
   ]
  }
 ],
 "metadata": {
  "hide_input": false,
  "kernelspec": {
   "display_name": "Python 2",
   "language": "python",
   "name": "python2"
  },
  "language_info": {
   "codemirror_mode": {
    "name": "ipython",
    "version": 2
   },
   "file_extension": ".py",
   "mimetype": "text/x-python",
   "name": "python",
   "nbconvert_exporter": "python",
   "pygments_lexer": "ipython2",
   "version": "2.7.12"
  }
 },
 "nbformat": 4,
 "nbformat_minor": 1
}
