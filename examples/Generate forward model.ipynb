{
 "cells": [
  {
   "cell_type": "markdown",
   "metadata": {},
   "source": [
    "# Forward model for M/EEG source analysis\n",
    "\n",
    "This notebook illustrates how to use features of the `stormdb.process`-module to:\n",
    "\n",
    "* generate a BEM model based on pre-calculated tissue surfaces (_e.g._, inner skull, outer skull and outer skin)\n",
    "* solve the BEM model (calculate interpolation coefficients for the surface elements based on node values)\n",
    "* generate a _source space_ of possible dipole locations for a distributed (_e.g._, MNE) estimate\n",
    "    * based on the cortical sheet (white-matter boundary) extracted using _Freesurfer_ `recon-all`\n",
    "* generate a _forward operator_ for source modeling, using\n",
    "    * solved BEM model\n",
    "    * source space\n",
    "    * head-to-mri transformation\n",
    "    * an MEG measurement file containing the locations of the sensors relative to the head\n",
    "\n",
    "_All computations are performed on the `hyades`-cluster._ The underlying code is based on the implementations found in `mne-python` and all outputs are written in the Neuromag FIF-format."
   ]
  },
  {
   "cell_type": "markdown",
   "metadata": {},
   "source": [
    "## Step 1: BEM creation and solution\n",
    "\n"
   ]
  },
  {
   "cell_type": "markdown",
   "metadata": {},
   "source": [
    "### Specify conductivity parameters"
   ]
  },
  {
   "cell_type": "code",
   "execution_count": 1,
   "metadata": {
    "collapsed": true
   },
   "outputs": [],
   "source": [
    "import os.path as op\n",
    "from stormdb.process import MNEPython\n",
    "from stormdb.base import mkdir_p  # mkdir -p"
   ]
  },
  {
   "cell_type": "code",
   "execution_count": 2,
   "metadata": {
    "collapsed": true
   },
   "outputs": [],
   "source": [
    "proj_name = 'MINDLAB2015_MEG-Sememene'\n",
    "subject = '0010_HXN'  # full code must be given!\n",
    "subjects_dir = op.join('/projects', proj_name, 'scratch', 'fs_subjects_dir')\n",
    "fwd_dir = op.join('/projects', proj_name, 'scratch', 'fwd_operators')\n",
    "mkdir_p(fwd_dir)  # this must exist"
   ]
  },
  {
   "cell_type": "code",
   "execution_count": 3,
   "metadata": {
    "collapsed": false
   },
   "outputs": [],
   "source": [
    "mp = MNEPython(proj_name)"
   ]
  },
  {
   "cell_type": "code",
   "execution_count": 4,
   "metadata": {
    "collapsed": false
   },
   "outputs": [],
   "source": [
    "mp.prepare_bem_model(subject, op.join(subjects_dir, subject, 'bem', 'test-3L-sol.fif'),\n",
    "                     subjects_dir=subjects_dir, conductivity=[0.3, 0.006, 0.3])"
   ]
  },
  {
   "cell_type": "code",
   "execution_count": 7,
   "metadata": {
    "collapsed": false
   },
   "outputs": [
    {
     "name": "stdout",
     "output_type": "stream",
     "text": [
      "Following command would be submitted (if not fake)\n",
      "python -c \"from mne import make_bem_model, make_bem_solution, write_bem_solution;surfs = make_bem_model('0010_HXN', ico=None, conductivity=[0.3, 0.006, 0.3], subjects_dir='/projects/MINDLAB2015_MEG-Sememene/scratch/fs_subjects_dir');bem = make_bem_solution(surfs);write_bem_solution('/projects/MINDLAB2015_MEG-Sememene/scratch/fs_subjects_dir/0010_HXN/bem/test-3L-sol.fif', bem)\"\n",
      "Following command would be submitted (if not fake)\n",
      "python -c \"from mne import setup_source_space, write_source_spaces;src = setup_source_space('0010_HXN');write_source_spaces(src, '/projects/MINDLAB2015_MEG-Sememene/scratch/fs_subjects_dir/0010_HXN/bem/test-ico6-src.fif')\"\n"
     ]
    }
   ],
   "source": [
    "mp.submit(fake=True)"
   ]
  },
  {
   "cell_type": "code",
   "execution_count": 6,
   "metadata": {
    "collapsed": true
   },
   "outputs": [],
   "source": [
    "src_fname = op.join(subjects_dir, subject, 'bem', 'test-ico6-src.fif')\n",
    "mp.setup_source_space(subject, src_fname)"
   ]
  },
  {
   "cell_type": "code",
   "execution_count": 8,
   "metadata": {
    "collapsed": false
   },
   "outputs": [
    {
     "name": "stdout",
     "output_type": "stream",
     "text": [
      "Cluster job submitted, job ID: 3829439\n",
      "Cluster job submitted, job ID: 3829440\n"
     ]
    }
   ],
   "source": [
    "mp.submit()"
   ]
  },
  {
   "cell_type": "code",
   "execution_count": 10,
   "metadata": {
    "collapsed": false
   },
   "outputs": [
    {
     "name": "stdout",
     "output_type": "stream",
     "text": [
      "#1 (3829439): Running on hyades04 (short.q)\n",
      "#2 (3829440): Running on hyades06 (short.q)\n"
     ]
    }
   ],
   "source": [
    "mp.status"
   ]
  },
  {
   "cell_type": "code",
   "execution_count": null,
   "metadata": {
    "collapsed": true
   },
   "outputs": [],
   "source": []
  }
 ],
 "metadata": {
  "kernelspec": {
   "display_name": "Python 2",
   "language": "python",
   "name": "python2"
  },
  "language_info": {
   "codemirror_mode": {
    "name": "ipython",
    "version": 2
   },
   "file_extension": ".py",
   "mimetype": "text/x-python",
   "name": "python",
   "nbconvert_exporter": "python",
   "pygments_lexer": "ipython2",
   "version": "2.7.12"
  }
 },
 "nbformat": 4,
 "nbformat_minor": 1
}
