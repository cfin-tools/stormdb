{
 "cells": [
  {
   "cell_type": "markdown",
   "metadata": {},
   "source": [
    "# Forward model for M/EEG source analysis\n",
    "\n",
    "This notebook illustrates how to use features of the `stormdb.process`-module to:\n",
    "\n",
    "* generate a BEM model based on pre-calculated tissue surfaces (_e.g._, inner skull, outer skull and outer skin)\n",
    "* solve the BEM model (calculate interpolation coefficients for the surface elements based on node values)\n",
    "* generate a _source space_ of possible dipole locations for a distributed (_e.g._, MNE) estimate\n",
    "    * based on the cortical sheet (white-matter boundary) extracted using _Freesurfer_ `recon-all`\n",
    "* generate a _forward operator_ for source modeling, using\n",
    "    * solved BEM model\n",
    "    * source space\n",
    "    * head-to-mri transformation\n",
    "    * an MEG measurement file containing the locations of the sensors relative to the head\n",
    "\n",
    "_All computations are performed on the `hyades`-cluster._ The underlying code is based on the implementations found in `mne-python` and all outputs are written in the Neuromag FIF-format."
   ]
  },
  {
   "cell_type": "code",
   "execution_count": 3,
   "metadata": {
    "collapsed": true
   },
   "outputs": [],
   "source": [
    "import os.path as op\n",
    "from stormdb.process import MNEPython\n",
    "from stormdb.base import mkdir_p  # mkdir -p"
   ]
  },
  {
   "cell_type": "code",
   "execution_count": 6,
   "metadata": {
    "collapsed": false
   },
   "outputs": [],
   "source": [
    "proj_name = 'MINDLAB2015_MEG-Sememene'\n",
    "subject = '0010_HXN'  # full code must be given!\n",
    "subjects_dir = op.join('/projects', proj_name, 'scratch', 'fs_subjects_dir')\n",
    "fwd_dir = op.join('/projects', proj_name, 'scratch', 'fwd_operators')\n",
    "#mkdir_p(fwd_dir)  # this must exist\n",
    "\n",
    "bem_fname = op.join(subjects_dir, subject, 'bem', 'test-3L-sol.fif')\n",
    "src_fname = op.join(subjects_dir, subject, 'bem', 'test-ico6-src.fif')"
   ]
  },
  {
   "cell_type": "markdown",
   "metadata": {},
   "source": [
    "## Step 1a: BEM creation and solution\n",
    "\n",
    "The BEM surfaces must be created first (see [this notebook](Generate BEM surfaces from MR.ipynb)). Depending on how many layers are to be used, _conductivity values_ must be specified for the desired number of layers. For example, for a 3-layer model, we might say:"
   ]
  },
  {
   "cell_type": "code",
   "execution_count": 7,
   "metadata": {
    "collapsed": true
   },
   "outputs": [],
   "source": [
    "conductivity = [0.3, 0.006, 0.3]  # brain, skull, skin\n",
    "# conductivity = [0.3]  # for a single-layer (inner skull) model"
   ]
  },
  {
   "cell_type": "code",
   "execution_count": 8,
   "metadata": {
    "collapsed": false
   },
   "outputs": [],
   "source": [
    "mp = MNEPython(proj_name)"
   ]
  },
  {
   "cell_type": "code",
   "execution_count": 4,
   "metadata": {
    "collapsed": false
   },
   "outputs": [],
   "source": [
    "mp.prepare_bem_model(subject, bem_fname, subjects_dir=subjects_dir,\n",
    "                     conductivity=conductivity)"
   ]
  },
  {
   "cell_type": "markdown",
   "metadata": {},
   "source": [
    "## Step 1b: Setup source space\n",
    "\n",
    "Take a `Freesurfer` surface (by default the white matter surface), downsample it to not more than 10,000 points per hemisphere, and save it to disk for later use. The `add_dist` can be used to allow later calls to `cortical patch statistics`.\n",
    "\n",
    "__NB__ The BEM and source space calculations are independent, so we can use the same `MNEPython`-object to hold the jobs, and submit them together/in parallel."
   ]
  },
  {
   "cell_type": "code",
   "execution_count": 9,
   "metadata": {
    "collapsed": true
   },
   "outputs": [],
   "source": [
    "mp.setup_source_space?"
   ]
  },
  {
   "cell_type": "code",
   "execution_count": 10,
   "metadata": {
    "collapsed": false
   },
   "outputs": [
    {
     "ename": "OSError",
     "evalue": "Non-existent directory: /Users/cjb/UnixApps/freesurfer/subjects/0010_HXN",
     "output_type": "error",
     "traceback": [
      "\u001b[0;31m---------------------------------------------------------------------------\u001b[0m",
      "\u001b[0;31mOSError\u001b[0m                                   Traceback (most recent call last)",
      "\u001b[0;32m<ipython-input-10-091d2240a436>\u001b[0m in \u001b[0;36m<module>\u001b[0;34m()\u001b[0m\n\u001b[0;32m----> 1\u001b[0;31m \u001b[0mmp\u001b[0m\u001b[0;34m.\u001b[0m\u001b[0msetup_source_space\u001b[0m\u001b[0;34m(\u001b[0m\u001b[0msubject\u001b[0m\u001b[0;34m,\u001b[0m \u001b[0msrc_fname\u001b[0m\u001b[0;34m)\u001b[0m\u001b[0;34m\u001b[0m\u001b[0m\n\u001b[0m",
      "\u001b[0;32m/Users/cjb/src/git/meeg-cfin/stormdb-python/stormdb/process/mne_python.py\u001b[0m in \u001b[0;36msetup_source_space\u001b[0;34m(self, subject, src_fname, **kwargs)\u001b[0m\n\u001b[1;32m     56\u001b[0m         \u001b[0msubjects_dir\u001b[0m \u001b[0;34m=\u001b[0m \u001b[0mself\u001b[0m\u001b[0;34m.\u001b[0m\u001b[0m_triage_subjects_dir_from_kwargs\u001b[0m\u001b[0;34m(\u001b[0m\u001b[0mkwargs\u001b[0m\u001b[0;34m)\u001b[0m\u001b[0;34m\u001b[0m\u001b[0m\n\u001b[1;32m     57\u001b[0m \u001b[0;34m\u001b[0m\u001b[0m\n\u001b[0;32m---> 58\u001b[0;31m         \u001b[0menforce_path_exists\u001b[0m\u001b[0;34m(\u001b[0m\u001b[0mos\u001b[0m\u001b[0;34m.\u001b[0m\u001b[0mpath\u001b[0m\u001b[0;34m.\u001b[0m\u001b[0mjoin\u001b[0m\u001b[0;34m(\u001b[0m\u001b[0msubjects_dir\u001b[0m\u001b[0;34m,\u001b[0m \u001b[0msubject\u001b[0m\u001b[0;34m)\u001b[0m\u001b[0;34m)\u001b[0m\u001b[0;34m\u001b[0m\u001b[0m\n\u001b[0m\u001b[1;32m     59\u001b[0m         \u001b[0;32mif\u001b[0m \u001b[0;32mnot\u001b[0m \u001b[0mcheck_destination_writable\u001b[0m\u001b[0;34m(\u001b[0m\u001b[0msrc_fname\u001b[0m\u001b[0;34m)\u001b[0m\u001b[0;34m:\u001b[0m\u001b[0;34m\u001b[0m\u001b[0m\n\u001b[1;32m     60\u001b[0m             \u001b[0;32mraise\u001b[0m \u001b[0mIOError\u001b[0m\u001b[0;34m(\u001b[0m\u001b[0;34m'Output file {0} not writable!'\u001b[0m\u001b[0;34m.\u001b[0m\u001b[0mformat\u001b[0m\u001b[0;34m(\u001b[0m\u001b[0msrc_fname\u001b[0m\u001b[0;34m)\u001b[0m\u001b[0;34m)\u001b[0m\u001b[0;34m\u001b[0m\u001b[0m\n",
      "\u001b[0;32m/Users/cjb/src/git/meeg-cfin/stormdb-python/stormdb/base.py\u001b[0m in \u001b[0;36menforce_path_exists\u001b[0;34m(test_dir)\u001b[0m\n\u001b[1;32m     35\u001b[0m     \u001b[0;34m\"\"\"Check path exists and is writable\"\"\"\u001b[0m\u001b[0;34m\u001b[0m\u001b[0m\n\u001b[1;32m     36\u001b[0m     \u001b[0;32mif\u001b[0m \u001b[0;32mnot\u001b[0m \u001b[0mos\u001b[0m\u001b[0;34m.\u001b[0m\u001b[0mpath\u001b[0m\u001b[0;34m.\u001b[0m\u001b[0mexists\u001b[0m\u001b[0;34m(\u001b[0m\u001b[0mtest_dir\u001b[0m\u001b[0;34m)\u001b[0m\u001b[0;34m:\u001b[0m\u001b[0;34m\u001b[0m\u001b[0m\n\u001b[0;32m---> 37\u001b[0;31m         \u001b[0;32mraise\u001b[0m \u001b[0mIOError\u001b[0m\u001b[0;34m(\u001b[0m\u001b[0;34m'Non-existent directory: {0}'\u001b[0m\u001b[0;34m.\u001b[0m\u001b[0mformat\u001b[0m\u001b[0;34m(\u001b[0m\u001b[0mtest_dir\u001b[0m\u001b[0;34m)\u001b[0m\u001b[0;34m)\u001b[0m\u001b[0;34m\u001b[0m\u001b[0m\n\u001b[0m\u001b[1;32m     38\u001b[0m     \u001b[0;32mif\u001b[0m \u001b[0;32mnot\u001b[0m \u001b[0mcheck_destination_writable\u001b[0m\u001b[0;34m(\u001b[0m\u001b[0mos\u001b[0m\u001b[0;34m.\u001b[0m\u001b[0mpath\u001b[0m\u001b[0;34m.\u001b[0m\u001b[0mjoin\u001b[0m\u001b[0;34m(\u001b[0m\u001b[0mtest_dir\u001b[0m\u001b[0;34m,\u001b[0m \u001b[0;34m'foo'\u001b[0m\u001b[0;34m)\u001b[0m\u001b[0;34m)\u001b[0m\u001b[0;34m:\u001b[0m\u001b[0;34m\u001b[0m\u001b[0m\n\u001b[1;32m     39\u001b[0m         raise IOError('You do not have write-permission to: '\n",
      "\u001b[0;31mOSError\u001b[0m: Non-existent directory: /Users/cjb/UnixApps/freesurfer/subjects/0010_HXN"
     ]
    }
   ],
   "source": [
    "mp.setup_source_space(subject, src_fname)"
   ]
  },
  {
   "cell_type": "markdown",
   "metadata": {},
   "source": [
    "### Submit BEM and souce space together"
   ]
  },
  {
   "cell_type": "code",
   "execution_count": 8,
   "metadata": {
    "collapsed": false
   },
   "outputs": [
    {
     "name": "stdout",
     "output_type": "stream",
     "text": [
      "Cluster job submitted, job ID: 3829439\n",
      "Cluster job submitted, job ID: 3829440\n"
     ]
    }
   ],
   "source": [
    "mp.submit()"
   ]
  },
  {
   "cell_type": "code",
   "execution_count": 10,
   "metadata": {
    "collapsed": false
   },
   "outputs": [
    {
     "name": "stdout",
     "output_type": "stream",
     "text": [
      "#1 (3829439): Running on hyades04 (short.q)\n",
      "#2 (3829440): Running on hyades06 (short.q)\n"
     ]
    }
   ],
   "source": [
    "mp.status"
   ]
  },
  {
   "cell_type": "markdown",
   "metadata": {
    "collapsed": true
   },
   "source": [
    "## Step 2: Coregistration\n",
    "\n",
    "See [this notebook](Head-to-MRI transformation for combined MEG and EEG.ipynb) for more details on this manual process."
   ]
  },
  {
   "cell_type": "markdown",
   "metadata": {},
   "source": [
    "## Step 3: Putting it all together"
   ]
  },
  {
   "cell_type": "code",
   "execution_count": null,
   "metadata": {
    "collapsed": true
   },
   "outputs": [],
   "source": [
    "mp = MNEPython(proj_name)\n",
    "mp.make_forward_solution()"
   ]
  }
 ],
 "metadata": {
  "hide_input": false,
  "kernelspec": {
   "display_name": "Python [default]",
   "language": "python",
   "name": "python3"
  },
  "language_info": {
   "codemirror_mode": {
    "name": "ipython",
    "version": 3
   },
   "file_extension": ".py",
   "mimetype": "text/x-python",
   "name": "python",
   "nbconvert_exporter": "python",
   "pygments_lexer": "ipython3",
   "version": "3.5.2"
  }
 },
 "nbformat": 4,
 "nbformat_minor": 1
}
